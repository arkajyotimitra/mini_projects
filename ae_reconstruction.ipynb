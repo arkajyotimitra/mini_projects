{
  "nbformat": 4,
  "nbformat_minor": 0,
  "metadata": {
    "colab": {
      "provenance": [],
      "authorship_tag": "ABX9TyNFWUvoNV3AVv3N2RMTtlPh",
      "include_colab_link": true
    },
    "kernelspec": {
      "name": "python3",
      "display_name": "Python 3"
    },
    "language_info": {
      "name": "python"
    }
  },
  "cells": [
    {
      "cell_type": "markdown",
      "metadata": {
        "id": "view-in-github",
        "colab_type": "text"
      },
      "source": [
        "<a href=\"https://colab.research.google.com/github/arkajyotimitra/mini_projects/blob/main/ae_reconstruction.ipynb\" target=\"_parent\"><img src=\"https://colab.research.google.com/assets/colab-badge.svg\" alt=\"Open In Colab\"/></a>"
      ]
    },
    {
      "cell_type": "code",
      "execution_count": 12,
      "metadata": {
        "id": "VBFgxBQ4sVO_"
      },
      "outputs": [],
      "source": [
        "import torch\n",
        "from torch.utils.data import Dataset, DataLoader\n",
        "\n",
        "class DummyDataset(Dataset):\n",
        "    def __init__(self, num_samples, image_size):\n",
        "        self.num_samples = num_samples\n",
        "        self.image_size = image_size\n",
        "\n",
        "    def __len__(self):\n",
        "        return self.num_samples\n",
        "\n",
        "    def __getitem__(self, idx):\n",
        "        # Generate random noise image\n",
        "        image = torch.rand((1, self.image_size, self.image_size))\n",
        "        return image\n",
        "\n",
        "# Create dummy dataset\n",
        "num_samples = 1000\n",
        "image_size = 28\n",
        "dataset = DummyDataset(num_samples, image_size)\n",
        "dataloader = DataLoader(dataset, batch_size=32, shuffle=True)\n"
      ]
    },
    {
      "cell_type": "code",
      "source": [
        "import torch.nn as nn\n",
        "\n",
        "class ConvAutoencoder(nn.Module):\n",
        "    def __init__(self):\n",
        "        super(ConvAutoencoder, self).__init__()\n",
        "        # Encoder layers\n",
        "        self.encoder = nn.Sequential(\n",
        "            nn.Conv2d(1, 16, kernel_size=3, stride=1, padding=1),  # 28x28x1 -> 28x28x16\n",
        "            nn.ReLU(),\n",
        "            nn.MaxPool2d(kernel_size=2, stride=2),  # 28x28x16 -> 14x14x16\n",
        "        )\n",
        "        # Decoder layers\n",
        "        self.decoder = nn.Sequential(\n",
        "            nn.ConvTranspose2d(16, 1, kernel_size=3, stride=2, padding=1, output_padding=1),  # 14x14x16 -> 28x28x1\n",
        "            nn.Sigmoid()\n",
        "        )\n",
        "\n",
        "    def forward(self, x):\n",
        "        x = self.encoder(x)\n",
        "        x = self.decoder(x)\n",
        "        return x\n",
        "\n",
        "# Instantiate the model\n",
        "model = ConvAutoencoder()\n"
      ],
      "metadata": {
        "id": "8uUBo6u_sf89"
      },
      "execution_count": 2,
      "outputs": []
    },
    {
      "cell_type": "code",
      "source": [
        "import torch.optim as optim\n",
        "import random\n",
        "# Define loss function and optimizer\n",
        "criterion = nn.MSELoss()\n",
        "optimizer = optim.Adam(model.parameters(), lr=0.001)\n",
        "\n",
        "# Training loop\n",
        "num_epochs = 10\n",
        "for epoch in range(num_epochs):\n",
        "    running_loss = 0.0\n",
        "    for i, data in enumerate(dataloader, 0):\n",
        "        inputs = data\n",
        "        # labels = random.shuffle(data)\n",
        "        # print(inputs.shape, labels.shape)\n",
        "        rand_idx = torch.randperm(inputs.shape[0])\n",
        "        # Zero the parameter gradients\n",
        "        optimizer.zero_grad()\n",
        "\n",
        "        # Forward + backward + optimize\n",
        "        outputs = model(inputs)\n",
        "        loss = criterion(outputs, inputs[rand_idx])\n",
        "        loss.backward()\n",
        "        optimizer.step()\n",
        "\n",
        "        # Print statistics\n",
        "        running_loss += loss.item()\n",
        "        if i % 100 == 99:    # Print every 100 mini-batches\n",
        "            print(f'Epoch [{epoch + 1}/{num_epochs}], Batch [{i + 1}/{len(dataloader)}], Loss: {running_loss / 100}')\n",
        "            running_loss = 0.0\n",
        "\n",
        "print('Finished Training')\n"
      ],
      "metadata": {
        "colab": {
          "base_uri": "https://localhost:8080/"
        },
        "id": "ufSkCoEwsjsT",
        "outputId": "5e98d940-1458-4683-c706-bf854371bb2d"
      },
      "execution_count": 16,
      "outputs": [
        {
          "output_type": "stream",
          "name": "stdout",
          "text": [
            "Finished Training\n"
          ]
        }
      ]
    },
    {
      "cell_type": "code",
      "source": [
        "import matplotlib.pyplot as plt\n",
        "import numpy as np\n",
        "\n",
        "# Get a batch of test data\n",
        "dataiter = iter(dataloader)\n",
        "images = next(dataiter)\n",
        "\n",
        "# Reconstruct images using the trained model\n",
        "outputs = model(images)\n",
        "outputs = outputs.detach().numpy()\n",
        "\n",
        "# Plot original images and reconstructed images\n",
        "plt.figure(figsize=(8, 4))\n",
        "for i in range(4):\n",
        "    # Original\n",
        "    plt.subplot(2, 4, i + 1)\n",
        "    plt.imshow(np.squeeze(images[i]), cmap='gray')\n",
        "    plt.title('Original')\n",
        "    plt.axis('off')\n",
        "\n",
        "    # Reconstructed\n",
        "    plt.subplot(2, 4, i + 5)\n",
        "    plt.imshow(np.squeeze(outputs[i]), cmap='gray')\n",
        "    plt.title('Reconstructed')\n",
        "    plt.axis('off')\n",
        "\n",
        "plt.tight_layout()\n",
        "plt.show()\n"
      ],
      "metadata": {
        "colab": {
          "base_uri": "https://localhost:8080/",
          "height": 409
        },
        "id": "pB2C0oMJspDR",
        "outputId": "cf694adc-0c5f-4596-b640-11c9631493d1"
      },
      "execution_count": 5,
      "outputs": [
        {
          "output_type": "display_data",
          "data": {
            "text/plain": [
              "<Figure size 800x400 with 8 Axes>"
            ],
            "image/png": "[encoded data removed]"
          },
          "metadata": {}
        }
      ]
    },
    {
      "cell_type": "code",
      "source": [
        "import torchvision.transforms as transforms\n",
        "from torchvision.datasets import MNIST\n",
        "\n",
        "# Define transformations\n",
        "transform = transforms.Compose([\n",
        "    transforms.ToTensor(),\n",
        "])\n",
        "\n",
        "# Load MNIST dataset\n",
        "train_dataset = MNIST(root='./data', train=True, download=True, transform=transform)\n",
        "test_dataset = MNIST(root='./data', train=False, download=True, transform=transform)\n",
        "\n",
        "# Create data loaders\n",
        "train_loader = DataLoader(train_dataset, batch_size=32, shuffle=True)\n",
        "test_loader = DataLoader(test_dataset, batch_size=32, shuffle=False)\n"
      ],
      "metadata": {
        "colab": {
          "base_uri": "https://localhost:8080/"
        },
        "id": "VwWPPdhv1bqk",
        "outputId": "6a260556-bf09-4952-ec6e-7b997457dc62"
      },
      "execution_count": 6,
      "outputs": [
        {
          "output_type": "stream",
          "name": "stdout",
          "text": [
            "Downloading http://yann.lecun.com/exdb/mnist/train-images-idx3-ubyte.gz\n",
            "Failed to download (trying next):\n",
            "HTTP Error 403: Forbidden\n",
            "\n",
            "Downloading https://ossci-datasets.s3.amazonaws.com/mnist/train-images-idx3-ubyte.gz\n",
            "Downloading https://ossci-datasets.s3.amazonaws.com/mnist/train-images-idx3-ubyte.gz to ./data/MNIST/raw/train-images-idx3-ubyte.gz\n"
          ]
        },
        {
          "output_type": "stream",
          "name": "stderr",
          "text": [
            "100%|██████████| 9912422/9912422 [00:00<00:00, 145880200.44it/s]\n"
          ]
        },
        {
          "output_type": "stream",
          "name": "stdout",
          "text": [
            "Extracting ./data/MNIST/raw/train-images-idx3-ubyte.gz to ./data/MNIST/raw\n",
            "\n",
            "Downloading http://yann.lecun.com/exdb/mnist/train-labels-idx1-ubyte.gz\n",
            "Failed to download (trying next):\n",
            "HTTP Error 403: Forbidden\n",
            "\n",
            "Downloading https://ossci-datasets.s3.amazonaws.com/mnist/train-labels-idx1-ubyte.gz\n",
            "Downloading https://ossci-datasets.s3.amazonaws.com/mnist/train-labels-idx1-ubyte.gz to ./data/MNIST/raw/train-labels-idx1-ubyte.gz\n"
          ]
        },
        {
          "output_type": "stream",
          "name": "stderr",
          "text": [
            "100%|██████████| 28881/28881 [00:00<00:00, 20372636.03it/s]"
          ]
        },
        {
          "output_type": "stream",
          "name": "stdout",
          "text": [
            "Extracting ./data/MNIST/raw/train-labels-idx1-ubyte.gz to ./data/MNIST/raw\n",
            "\n",
            "Downloading http://yann.lecun.com/exdb/mnist/t10k-images-idx3-ubyte.gz\n",
            "Failed to download (trying next):\n",
            "HTTP Error 403: Forbidden\n",
            "\n",
            "Downloading https://ossci-datasets.s3.amazonaws.com/mnist/t10k-images-idx3-ubyte.gz\n",
            "Downloading https://ossci-datasets.s3.amazonaws.com/mnist/t10k-images-idx3-ubyte.gz to ./data/MNIST/raw/t10k-images-idx3-ubyte.gz\n"
          ]
        },
        {
          "output_type": "stream",
          "name": "stderr",
          "text": [
            "\n",
            "100%|██████████| 1648877/1648877 [00:00<00:00, 47549873.81it/s]\n"
          ]
        },
        {
          "output_type": "stream",
          "name": "stdout",
          "text": [
            "Extracting ./data/MNIST/raw/t10k-images-idx3-ubyte.gz to ./data/MNIST/raw\n",
            "\n",
            "Downloading http://yann.lecun.com/exdb/mnist/t10k-labels-idx1-ubyte.gz\n",
            "Failed to download (trying next):\n",
            "HTTP Error 403: Forbidden\n",
            "\n",
            "Downloading https://ossci-datasets.s3.amazonaws.com/mnist/t10k-labels-idx1-ubyte.gz\n",
            "Downloading https://ossci-datasets.s3.amazonaws.com/mnist/t10k-labels-idx1-ubyte.gz to ./data/MNIST/raw/t10k-labels-idx1-ubyte.gz\n"
          ]
        },
        {
          "output_type": "stream",
          "name": "stderr",
          "text": [
            "100%|██████████| 4542/4542 [00:00<00:00, 2886006.48it/s]\n"
          ]
        },
        {
          "output_type": "stream",
          "name": "stdout",
          "text": [
            "Extracting ./data/MNIST/raw/t10k-labels-idx1-ubyte.gz to ./data/MNIST/raw\n",
            "\n"
          ]
        }
      ]
    },
    {
      "cell_type": "code",
      "source": [
        "import torch.optim as optim\n",
        "\n",
        "# Define loss function and optimizer\n",
        "criterion = nn.MSELoss()\n",
        "optimizer = optim.Adam(model.parameters(), lr=0.001)\n",
        "\n",
        "# Training loop\n",
        "num_epochs = 10\n",
        "for epoch in range(num_epochs):\n",
        "    running_loss = 0.0\n",
        "    for i, data in enumerate(train_loader, 0):\n",
        "        inputs, _ = data\n",
        "        rand_idx = torch.randperm(inputs.shape[0]) # shuffling the image index\n",
        "        # Zero the parameter gradients\n",
        "        optimizer.zero_grad()\n",
        "\n",
        "        # Forward + backward + optimize\n",
        "        outputs = model(inputs)\n",
        "        loss = criterion(outputs, inputs[rand_idx]) # comparing with random images in the batch\n",
        "        loss.backward()\n",
        "        optimizer.step()\n",
        "\n",
        "        # Print statistics\n",
        "        running_loss += loss.item()\n",
        "        if i % 100 == 99:    # Print every 100 mini-batches\n",
        "            print(f'Epoch [{epoch + 1}/{num_epochs}], Batch [{i + 1}/{len(train_loader)}], Loss: {running_loss / 100}')\n",
        "            running_loss = 0.0\n",
        "\n",
        "print('Finished Training')\n"
      ],
      "metadata": {
        "colab": {
          "base_uri": "https://localhost:8080/"
        },
        "id": "g3OizjHQ1dZ-",
        "outputId": "10592639-a3c4-4b24-e098-5b6a5325ff08"
      },
      "execution_count": 17,
      "outputs": [
        {
          "output_type": "stream",
          "name": "stdout",
          "text": [
            "Epoch [1/10], Batch [100/1875], Loss: 0.08578189939260483\n",
            "Epoch [1/10], Batch [200/1875], Loss: 0.0831203594058752\n",
            "Epoch [1/10], Batch [300/1875], Loss: 0.0830287442356348\n",
            "Epoch [1/10], Batch [400/1875], Loss: 0.08194132432341576\n",
            "Epoch [1/10], Batch [500/1875], Loss: 0.08225908622145653\n",
            "Epoch [1/10], Batch [600/1875], Loss: 0.08188136257231235\n",
            "Epoch [1/10], Batch [700/1875], Loss: 0.08144336409866809\n",
            "Epoch [1/10], Batch [800/1875], Loss: 0.08086749650537968\n",
            "Epoch [1/10], Batch [900/1875], Loss: 0.08084764972329139\n",
            "Epoch [1/10], Batch [1000/1875], Loss: 0.0803123301267624\n",
            "Epoch [1/10], Batch [1100/1875], Loss: 0.07979750342667102\n",
            "Epoch [1/10], Batch [1200/1875], Loss: 0.08070230208337308\n",
            "Epoch [1/10], Batch [1300/1875], Loss: 0.08047864474356174\n",
            "Epoch [1/10], Batch [1400/1875], Loss: 0.07972910575568676\n",
            "Epoch [1/10], Batch [1500/1875], Loss: 0.08078464984893799\n",
            "Epoch [1/10], Batch [1600/1875], Loss: 0.08021843887865543\n",
            "Epoch [1/10], Batch [1700/1875], Loss: 0.07974239446222782\n",
            "Epoch [1/10], Batch [1800/1875], Loss: 0.07995436914265155\n",
            "Epoch [2/10], Batch [100/1875], Loss: 0.0805000002682209\n",
            "Epoch [2/10], Batch [200/1875], Loss: 0.08068001627922058\n",
            "Epoch [2/10], Batch [300/1875], Loss: 0.07975167937576771\n",
            "Epoch [2/10], Batch [400/1875], Loss: 0.07927182078361511\n",
            "Epoch [2/10], Batch [500/1875], Loss: 0.07985554069280625\n",
            "Epoch [2/10], Batch [600/1875], Loss: 0.08068701088428497\n",
            "Epoch [2/10], Batch [700/1875], Loss: 0.0799366970360279\n",
            "Epoch [2/10], Batch [800/1875], Loss: 0.07964093893766404\n",
            "Epoch [2/10], Batch [900/1875], Loss: 0.07836496822535992\n",
            "Epoch [2/10], Batch [1000/1875], Loss: 0.07906837686896324\n",
            "Epoch [2/10], Batch [1100/1875], Loss: 0.07880441829562188\n",
            "Epoch [2/10], Batch [1200/1875], Loss: 0.0787507026642561\n",
            "Epoch [2/10], Batch [1300/1875], Loss: 0.0790470738708973\n",
            "Epoch [2/10], Batch [1400/1875], Loss: 0.07930611163377761\n",
            "Epoch [2/10], Batch [1500/1875], Loss: 0.07982913695275784\n",
            "Epoch [2/10], Batch [1600/1875], Loss: 0.07905458569526673\n",
            "Epoch [2/10], Batch [1700/1875], Loss: 0.07938710808753967\n",
            "Epoch [2/10], Batch [1800/1875], Loss: 0.07834455601871014\n",
            "Epoch [3/10], Batch [100/1875], Loss: 0.07935964211821556\n",
            "Epoch [3/10], Batch [200/1875], Loss: 0.07886931873857975\n",
            "Epoch [3/10], Batch [300/1875], Loss: 0.07886355437338352\n",
            "Epoch [3/10], Batch [400/1875], Loss: 0.07924951687455177\n",
            "Epoch [3/10], Batch [500/1875], Loss: 0.07894045136868953\n",
            "Epoch [3/10], Batch [600/1875], Loss: 0.07824718229472637\n",
            "Epoch [3/10], Batch [700/1875], Loss: 0.0796623932570219\n",
            "Epoch [3/10], Batch [800/1875], Loss: 0.07991253979504108\n",
            "Epoch [3/10], Batch [900/1875], Loss: 0.07845370806753635\n",
            "Epoch [3/10], Batch [1000/1875], Loss: 0.07931308589875698\n",
            "Epoch [3/10], Batch [1100/1875], Loss: 0.07888966843485833\n",
            "Epoch [3/10], Batch [1200/1875], Loss: 0.07848429672420025\n",
            "Epoch [3/10], Batch [1300/1875], Loss: 0.07939320236444473\n",
            "Epoch [3/10], Batch [1400/1875], Loss: 0.07861685335636139\n",
            "Epoch [3/10], Batch [1500/1875], Loss: 0.07896207824349404\n",
            "Epoch [3/10], Batch [1600/1875], Loss: 0.07899238660931587\n",
            "Epoch [3/10], Batch [1700/1875], Loss: 0.07837656736373902\n",
            "Epoch [3/10], Batch [1800/1875], Loss: 0.07883205190300942\n",
            "Epoch [4/10], Batch [100/1875], Loss: 0.0786780495196581\n",
            "Epoch [4/10], Batch [200/1875], Loss: 0.07945477217435837\n",
            "Epoch [4/10], Batch [300/1875], Loss: 0.07819015383720399\n",
            "Epoch [4/10], Batch [400/1875], Loss: 0.07924258396029472\n",
            "Epoch [4/10], Batch [500/1875], Loss: 0.07890904784202575\n",
            "Epoch [4/10], Batch [600/1875], Loss: 0.07956244438886642\n",
            "Epoch [4/10], Batch [700/1875], Loss: 0.07954363159835338\n",
            "Epoch [4/10], Batch [800/1875], Loss: 0.0794717987626791\n",
            "Epoch [4/10], Batch [900/1875], Loss: 0.07826758973300457\n",
            "Epoch [4/10], Batch [1000/1875], Loss: 0.07786845356225967\n",
            "Epoch [4/10], Batch [1100/1875], Loss: 0.07881745912134647\n",
            "Epoch [4/10], Batch [1200/1875], Loss: 0.07926292397081852\n",
            "Epoch [4/10], Batch [1300/1875], Loss: 0.07851466186344623\n",
            "Epoch [4/10], Batch [1400/1875], Loss: 0.07951182775199413\n",
            "Epoch [4/10], Batch [1500/1875], Loss: 0.0790492944419384\n",
            "Epoch [4/10], Batch [1600/1875], Loss: 0.0793825125694275\n",
            "Epoch [4/10], Batch [1700/1875], Loss: 0.0789364918321371\n",
            "Epoch [4/10], Batch [1800/1875], Loss: 0.07848102413117886\n",
            "Epoch [5/10], Batch [100/1875], Loss: 0.07870757281780243\n",
            "Epoch [5/10], Batch [200/1875], Loss: 0.07808521635830402\n",
            "Epoch [5/10], Batch [300/1875], Loss: 0.07907895371317863\n",
            "Epoch [5/10], Batch [400/1875], Loss: 0.07896087154746055\n",
            "Epoch [5/10], Batch [500/1875], Loss: 0.07860759235918521\n",
            "Epoch [5/10], Batch [600/1875], Loss: 0.07921510450541973\n",
            "Epoch [5/10], Batch [700/1875], Loss: 0.0786378476023674\n",
            "Epoch [5/10], Batch [800/1875], Loss: 0.07849871881306171\n",
            "Epoch [5/10], Batch [900/1875], Loss: 0.07853014342486858\n",
            "Epoch [5/10], Batch [1000/1875], Loss: 0.07875447571277619\n",
            "Epoch [5/10], Batch [1100/1875], Loss: 0.07868084713816642\n",
            "Epoch [5/10], Batch [1200/1875], Loss: 0.07925481468439102\n",
            "Epoch [5/10], Batch [1300/1875], Loss: 0.07858513832092286\n",
            "Epoch [5/10], Batch [1400/1875], Loss: 0.07917749434709549\n",
            "Epoch [5/10], Batch [1500/1875], Loss: 0.07922420032322407\n",
            "Epoch [5/10], Batch [1600/1875], Loss: 0.0789141820371151\n",
            "Epoch [5/10], Batch [1700/1875], Loss: 0.07832097999751568\n",
            "Epoch [5/10], Batch [1800/1875], Loss: 0.07945742689073086\n",
            "Epoch [6/10], Batch [100/1875], Loss: 0.07857817940413953\n",
            "Epoch [6/10], Batch [200/1875], Loss: 0.07868473783135414\n",
            "Epoch [6/10], Batch [300/1875], Loss: 0.07903896868228913\n",
            "Epoch [6/10], Batch [400/1875], Loss: 0.07932098850607872\n",
            "Epoch [6/10], Batch [500/1875], Loss: 0.07808878049254417\n",
            "Epoch [6/10], Batch [600/1875], Loss: 0.07891128234565258\n",
            "Epoch [6/10], Batch [700/1875], Loss: 0.07847641125321388\n",
            "Epoch [6/10], Batch [800/1875], Loss: 0.07959391370415687\n",
            "Epoch [6/10], Batch [900/1875], Loss: 0.0783418819308281\n",
            "Epoch [6/10], Batch [1000/1875], Loss: 0.07898841440677642\n",
            "Epoch [6/10], Batch [1100/1875], Loss: 0.07852693609893321\n",
            "Epoch [6/10], Batch [1200/1875], Loss: 0.07938519589602948\n",
            "Epoch [6/10], Batch [1300/1875], Loss: 0.07906883247196675\n",
            "Epoch [6/10], Batch [1400/1875], Loss: 0.0788308997452259\n",
            "Epoch [6/10], Batch [1500/1875], Loss: 0.0783191591501236\n",
            "Epoch [6/10], Batch [1600/1875], Loss: 0.07915502496063709\n",
            "Epoch [6/10], Batch [1700/1875], Loss: 0.0784703928977251\n",
            "Epoch [6/10], Batch [1800/1875], Loss: 0.078733873590827\n",
            "Epoch [7/10], Batch [100/1875], Loss: 0.07909998074173927\n",
            "Epoch [7/10], Batch [200/1875], Loss: 0.07897394455969334\n",
            "Epoch [7/10], Batch [300/1875], Loss: 0.07913986325263977\n",
            "Epoch [7/10], Batch [400/1875], Loss: 0.07891121491789818\n",
            "Epoch [7/10], Batch [500/1875], Loss: 0.07941096983850002\n",
            "Epoch [7/10], Batch [600/1875], Loss: 0.07888997532427311\n",
            "Epoch [7/10], Batch [700/1875], Loss: 0.07829002603888512\n",
            "Epoch [7/10], Batch [800/1875], Loss: 0.07896274648606777\n",
            "Epoch [7/10], Batch [900/1875], Loss: 0.07797001674771309\n",
            "Epoch [7/10], Batch [1000/1875], Loss: 0.0789616584777832\n",
            "Epoch [7/10], Batch [1100/1875], Loss: 0.07868164882063866\n",
            "Epoch [7/10], Batch [1200/1875], Loss: 0.07867596678435802\n",
            "Epoch [7/10], Batch [1300/1875], Loss: 0.07902743764221669\n",
            "Epoch [7/10], Batch [1400/1875], Loss: 0.07900032944977284\n",
            "Epoch [7/10], Batch [1500/1875], Loss: 0.07871587209403515\n",
            "Epoch [7/10], Batch [1600/1875], Loss: 0.07839318215847016\n",
            "Epoch [7/10], Batch [1700/1875], Loss: 0.079417185485363\n",
            "Epoch [7/10], Batch [1800/1875], Loss: 0.07894055023789406\n",
            "Epoch [8/10], Batch [100/1875], Loss: 0.07853261478245259\n",
            "Epoch [8/10], Batch [200/1875], Loss: 0.07947042033076286\n",
            "Epoch [8/10], Batch [300/1875], Loss: 0.07897291377186776\n",
            "Epoch [8/10], Batch [400/1875], Loss: 0.07853644043207168\n",
            "Epoch [8/10], Batch [500/1875], Loss: 0.07793168000876903\n",
            "Epoch [8/10], Batch [600/1875], Loss: 0.07951000601053237\n",
            "Epoch [8/10], Batch [700/1875], Loss: 0.0790093108266592\n",
            "Epoch [8/10], Batch [800/1875], Loss: 0.07853883102536202\n",
            "Epoch [8/10], Batch [900/1875], Loss: 0.07871716775000095\n",
            "Epoch [8/10], Batch [1000/1875], Loss: 0.07895616017282009\n",
            "Epoch [8/10], Batch [1100/1875], Loss: 0.07911933600902557\n",
            "Epoch [8/10], Batch [1200/1875], Loss: 0.07909510761499405\n",
            "Epoch [8/10], Batch [1300/1875], Loss: 0.07849868066608906\n",
            "Epoch [8/10], Batch [1400/1875], Loss: 0.07825470741838217\n",
            "Epoch [8/10], Batch [1500/1875], Loss: 0.07846801809966564\n",
            "Epoch [8/10], Batch [1600/1875], Loss: 0.0784766984730959\n",
            "Epoch [8/10], Batch [1700/1875], Loss: 0.07801649667322635\n",
            "Epoch [8/10], Batch [1800/1875], Loss: 0.07900056928396225\n",
            "Epoch [9/10], Batch [100/1875], Loss: 0.07868964582681656\n",
            "Epoch [9/10], Batch [200/1875], Loss: 0.07816555224359036\n",
            "Epoch [9/10], Batch [300/1875], Loss: 0.07904127068817615\n",
            "Epoch [9/10], Batch [400/1875], Loss: 0.07851736880838871\n",
            "Epoch [9/10], Batch [500/1875], Loss: 0.07874418936669826\n",
            "Epoch [9/10], Batch [600/1875], Loss: 0.07889556303620339\n",
            "Epoch [9/10], Batch [700/1875], Loss: 0.07837724305689335\n",
            "Epoch [9/10], Batch [800/1875], Loss: 0.07830879703164101\n",
            "Epoch [9/10], Batch [900/1875], Loss: 0.07859199710190296\n",
            "Epoch [9/10], Batch [1000/1875], Loss: 0.07827552258968354\n",
            "Epoch [9/10], Batch [1100/1875], Loss: 0.07947499945759773\n",
            "Epoch [9/10], Batch [1200/1875], Loss: 0.07836679145693778\n",
            "Epoch [9/10], Batch [1300/1875], Loss: 0.07939124338328839\n",
            "Epoch [9/10], Batch [1400/1875], Loss: 0.07834766536951066\n",
            "Epoch [9/10], Batch [1500/1875], Loss: 0.07848257556557656\n",
            "Epoch [9/10], Batch [1600/1875], Loss: 0.07912008479237556\n",
            "Epoch [9/10], Batch [1700/1875], Loss: 0.07872898668050766\n",
            "Epoch [9/10], Batch [1800/1875], Loss: 0.07919653944671154\n",
            "Epoch [10/10], Batch [100/1875], Loss: 0.0797160305082798\n",
            "Epoch [10/10], Batch [200/1875], Loss: 0.07860619276762008\n",
            "Epoch [10/10], Batch [300/1875], Loss: 0.07896511271595955\n",
            "Epoch [10/10], Batch [400/1875], Loss: 0.07937601014971733\n",
            "Epoch [10/10], Batch [500/1875], Loss: 0.07863893650472165\n",
            "Epoch [10/10], Batch [600/1875], Loss: 0.07831049427390098\n",
            "Epoch [10/10], Batch [700/1875], Loss: 0.07870146855711938\n",
            "Epoch [10/10], Batch [800/1875], Loss: 0.0789233086258173\n",
            "Epoch [10/10], Batch [900/1875], Loss: 0.07882951535284519\n",
            "Epoch [10/10], Batch [1000/1875], Loss: 0.0783136785775423\n",
            "Epoch [10/10], Batch [1100/1875], Loss: 0.07768977880477905\n",
            "Epoch [10/10], Batch [1200/1875], Loss: 0.07783510208129883\n",
            "Epoch [10/10], Batch [1300/1875], Loss: 0.0783904630690813\n",
            "Epoch [10/10], Batch [1400/1875], Loss: 0.07859402239322662\n",
            "Epoch [10/10], Batch [1500/1875], Loss: 0.07929539345204831\n",
            "Epoch [10/10], Batch [1600/1875], Loss: 0.0782656679302454\n",
            "Epoch [10/10], Batch [1700/1875], Loss: 0.07902278460562229\n",
            "Epoch [10/10], Batch [1800/1875], Loss: 0.0783557715266943\n",
            "Finished Training\n"
          ]
        }
      ]
    },
    {
      "cell_type": "code",
      "source": [
        "import matplotlib.pyplot as plt\n",
        "import numpy as np\n",
        "\n",
        "# Get a batch of test data\n",
        "dataiter = iter(test_loader)\n",
        "images, _ = next(dataiter)\n",
        "\n",
        "# Reconstruct images using the trained model\n",
        "outputs = model(images)\n",
        "outputs = outputs.detach().numpy()\n",
        "\n",
        "# Plot original images and reconstructed images\n",
        "plt.figure(figsize=(8, 4))\n",
        "for i in range(4):\n",
        "    # Original\n",
        "    plt.subplot(2, 4, i + 1)\n",
        "    plt.imshow(np.squeeze(images[i]), cmap='gray')\n",
        "    plt.title('Original')\n",
        "    plt.axis('off')\n",
        "\n",
        "    # Reconstructed\n",
        "    plt.subplot(2, 4, i + 5)\n",
        "    plt.imshow(np.squeeze(outputs[i]), cmap='gray')\n",
        "    plt.title('Reconstructed')\n",
        "    plt.axis('off')\n",
        "\n",
        "plt.tight_layout()\n",
        "plt.show()\n"
      ],
      "metadata": {
        "colab": {
          "base_uri": "https://localhost:8080/",
          "height": 409
        },
        "id": "UsUHyrVT18Yz",
        "outputId": "7fae8420-157e-4c62-dd86-b403ca60c23d"
      },
      "execution_count": 18,
      "outputs": [
        {
          "output_type": "display_data",
          "data": {
            "text/plain": [
              "<Figure size 800x400 with 8 Axes>"
            ],
            "image/png": "[encoded data removed]"
          },
          "metadata": {}
        }
      ]
    },
    {
      "cell_type": "code",
      "source": [],
      "metadata": {
        "id": "nl6NaEWe3Hht"
      },
      "execution_count": null,
      "outputs": []
    }
  ]
}