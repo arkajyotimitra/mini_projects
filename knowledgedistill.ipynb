{
  "nbformat": 4,
  "nbformat_minor": 0,
  "metadata": {
    "colab": {
      "provenance": [],
      "gpuType": "T4",
      "authorship_tag": "ABX9TyPjrodN1fFDXioZwuIed5/1",
      "include_colab_link": true
    },
    "kernelspec": {
      "name": "python3",
      "display_name": "Python 3"
    },
    "language_info": {
      "name": "python"
    },
    "accelerator": "GPU"
  },
  "cells": [
    {
      "cell_type": "markdown",
      "metadata": {
        "id": "view-in-github",
        "colab_type": "text"
      },
      "source": [
        "<a href=\"https://colab.research.google.com/github/arkajyotimitra/mini_projects/blob/main/knowledgedistill.ipynb\" target=\"_parent\"><img src=\"https://colab.research.google.com/assets/colab-badge.svg\" alt=\"Open In Colab\"/></a>"
      ]
    },
    {
      "cell_type": "code",
      "source": [
        "# imports\n",
        "import torch\n",
        "import torch.nn as nn\n",
        "import torch.optim as optim\n",
        "import torchvision\n",
        "import torchvision.transforms as transforms\n",
        "from torch.utils.data import DataLoader\n",
        "\n",
        "device = torch.device(\"cuda\" if torch.cuda.is_available() else \"cpu\")\n",
        "\n",
        "# Define the teacher model\n",
        "class TeacherNet(nn.Module):\n",
        "    def __init__(self):\n",
        "        super(TeacherNet, self).__init__()\n",
        "        self.conv1 = nn.Conv2d(1, 32, kernel_size=3, padding=1)\n",
        "        self.relu = nn.ReLU()\n",
        "        self.maxpool = nn.MaxPool2d(kernel_size=2, stride=2)\n",
        "        self.conv2 = nn.Conv2d(32, 64, kernel_size=3, padding=1)\n",
        "        self.fc1 = nn.Linear(64 * 7 * 7, 128)\n",
        "        self.fc2 = nn.Linear(128, 10)\n",
        "\n",
        "    def forward(self, x):\n",
        "        x = self.relu(self.conv1(x))\n",
        "        x = self.maxpool(x)\n",
        "        x = self.relu(self.conv2(x))\n",
        "        x = self.maxpool(x)\n",
        "        x = x.view(-1, 64 * 7 * 7)\n",
        "        x = self.relu(self.fc1(x))\n",
        "        x = self.fc2(x)\n",
        "        return x\n",
        "\n",
        "# Define the student model\n",
        "class StudentNet(nn.Module):\n",
        "    def __init__(self):\n",
        "        super(StudentNet, self).__init__()\n",
        "        self.conv1 = nn.Conv2d(1, 16, kernel_size=3, padding=1)\n",
        "        self.relu = nn.ReLU()\n",
        "        self.maxpool = nn.MaxPool2d(kernel_size=2, stride=2)\n",
        "        self.fc1 = nn.Linear(16 * 14 * 14, 10)\n",
        "\n",
        "    def forward(self, x):\n",
        "        x = self.relu(self.conv1(x))\n",
        "        x = self.maxpool(x)\n",
        "        x = x.view(-1, 16 * 14 * 14)\n",
        "        x = self.fc1(x)\n",
        "        return x\n",
        "\n",
        "# Hyperparameters\n",
        "batch_size = 64\n",
        "learning_rate = 0.01\n",
        "num_epochs = 10\n",
        "temperature = 5\n",
        "alpha = 0.5\n",
        "\n",
        "# Load MNIST dataset\n",
        "transform = transforms.Compose([transforms.ToTensor(), transforms.Normalize((0.1307,), (0.3081,))])\n",
        "trainset = torchvision.datasets.MNIST(root='./data', train=True, download=True, transform=transform)\n",
        "testset = torchvision.datasets.MNIST(root='./data', train=False, download=True, transform=transform)\n",
        "trainloader = DataLoader(trainset, batch_size=batch_size, shuffle=True)\n",
        "testloader = DataLoader(testset, batch_size=batch_size, shuffle=False)\n",
        "\n",
        "# Initialize models and optimizers\n",
        "teacher_model = TeacherNet().to(device)\n",
        "student_model = StudentNet().to(device)\n",
        "teacher_optimizer = optim.SGD(teacher_model.parameters(), lr=learning_rate)\n",
        "student_optimizer = optim.SGD(student_model.parameters(), lr=learning_rate)\n",
        "criterion_hard = nn.CrossEntropyLoss()\n",
        "criterion_soft = nn.KLDivLoss(reduction='batchmean')\n",
        "\n",
        "\n"
      ],
      "metadata": {
        "id": "P5iN-bqKeFRX"
      },
      "execution_count": 1,
      "outputs": []
    },
    {
      "cell_type": "code",
      "source": [
        "# Train the teacher model\n",
        "for epoch in range(num_epochs):\n",
        "    teacher_model.train()\n",
        "    for images, labels in trainloader:\n",
        "        teacher_optimizer.zero_grad()\n",
        "        images, labels = images.to(device), labels.to(device)\n",
        "        outputs = teacher_model(images)\n",
        "        loss = criterion_hard(outputs, labels)\n",
        "        loss.backward()\n",
        "        teacher_optimizer.step()\n",
        "    print('Epoch [{}/{}], Loss: {:.4f}'.format(epoch + 1, num_epochs, loss.item()))\n",
        "\n",
        "# Train the student model with knowledge distillation\n",
        "for epoch in range(num_epochs):\n",
        "    student_model.train()\n",
        "    for images, labels in trainloader:\n",
        "        student_optimizer.zero_grad()\n",
        "        images, labels = images.to(device), labels.to(device)\n",
        "        student_outputs = student_model(images)\n",
        "        with torch.no_grad():\n",
        "            teacher_outputs = teacher_model(images)\n",
        "        loss_hard = criterion_hard(student_outputs, labels)\n",
        "        loss_soft = criterion_soft(\n",
        "            nn.functional.log_softmax(student_outputs / temperature, dim=1),\n",
        "            nn.functional.softmax(teacher_outputs / temperature, dim=1)\n",
        "        ) * (temperature ** 2)\n",
        "        loss = alpha * loss_hard + (1 - alpha) * loss_soft\n",
        "        loss.backward()\n",
        "        student_optimizer.step()\n",
        "    print('Epoch [{}/{}], Loss: {:.4f}'.format(epoch + 1, num_epochs, loss.item()))\n",
        "\n"
      ],
      "metadata": {
        "colab": {
          "base_uri": "https://localhost:8080/"
        },
        "id": "F--fn8TFeMDV",
        "outputId": "9339b0e6-82a6-45a0-b36c-d26e1e7d4e1b"
      },
      "execution_count": 2,
      "outputs": [
        {
          "output_type": "stream",
          "name": "stdout",
          "text": [
            "Epoch [1/10], Loss: 0.3879\n",
            "Epoch [2/10], Loss: 0.0459\n",
            "Epoch [3/10], Loss: 0.0800\n",
            "Epoch [4/10], Loss: 0.0338\n",
            "Epoch [5/10], Loss: 0.1130\n",
            "Epoch [6/10], Loss: 0.1544\n",
            "Epoch [7/10], Loss: 0.0021\n",
            "Epoch [8/10], Loss: 0.0234\n",
            "Epoch [9/10], Loss: 0.0287\n",
            "Epoch [10/10], Loss: 0.0202\n",
            "Epoch [1/10], Loss: 0.9584\n",
            "Epoch [2/10], Loss: 0.4507\n",
            "Epoch [3/10], Loss: 0.3283\n",
            "Epoch [4/10], Loss: 0.2648\n",
            "Epoch [5/10], Loss: 0.2650\n",
            "Epoch [6/10], Loss: 0.2633\n",
            "Epoch [7/10], Loss: 0.2860\n",
            "Epoch [8/10], Loss: 0.2910\n",
            "Epoch [9/10], Loss: 0.2011\n",
            "Epoch [10/10], Loss: 0.2465\n"
          ]
        }
      ]
    },
    {
      "cell_type": "code",
      "source": [
        "# Evaluate the student model\n",
        "student_model.eval()\n",
        "correct = 0\n",
        "total = 0\n",
        "with torch.no_grad():\n",
        "    for images, labels in testloader:\n",
        "        images, labels = images.to(device), labels.to(device)\n",
        "        outputs = student_model(images)\n",
        "        _, predicted = torch.max(outputs.data, 1)\n",
        "        total += labels.size(0)\n",
        "        correct += (predicted == labels).sum().item()\n",
        "\n",
        "accuracy = 100 * correct / total\n",
        "print('Accuracy of the student model on the 10000 test images: {} %'.format(accuracy))\n",
        "\n"
      ],
      "metadata": {
        "colab": {
          "base_uri": "https://localhost:8080/"
        },
        "id": "c2zEqPHmgqSp",
        "outputId": "ee47804f-0457-4cfa-ae6f-3d5cae5f535c"
      },
      "execution_count": 3,
      "outputs": [
        {
          "output_type": "stream",
          "name": "stdout",
          "text": [
            "Accuracy of the student model on the 10000 test images: 97.79 %\n"
          ]
        }
      ]
    },
    {
      "cell_type": "code",
      "source": [
        "teacher_model.eval()\n",
        "correct = 0\n",
        "total = 0\n",
        "\n",
        "with torch.no_grad():\n",
        "    for images, labels in testloader:\n",
        "        images, labels = images.to(device), labels.to(device)\n",
        "        outputs = teacher_model(images)\n",
        "        _, predicted = torch.max(outputs.data, 1)\n",
        "        total += labels.size(0)\n",
        "        correct += (predicted == labels).sum().item()\n",
        "\n",
        "accuracy = 100 * correct / total\n",
        "print('Accuracy of the student model on the 10000 test images: {} %'.format(accuracy))"
      ],
      "metadata": {
        "colab": {
          "base_uri": "https://localhost:8080/"
        },
        "id": "uzI20Oi-jBi9",
        "outputId": "27207f9d-00fc-43e9-8d77-d91a69a07c9f"
      },
      "execution_count": 4,
      "outputs": [
        {
          "output_type": "stream",
          "name": "stdout",
          "text": [
            "Accuracy of the student model on the 10000 test images: 98.69 %\n"
          ]
        }
      ]
    },
    {
      "cell_type": "code",
      "source": [],
      "metadata": {
        "id": "UnMnU97MjY-y"
      },
      "execution_count": 4,
      "outputs": []
    }
  ]
}